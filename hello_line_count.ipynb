{
 "cells": [
  {
   "cell_type": "markdown",
   "metadata": {},
   "source": [
    "## Count lines and words in a text file"
   ]
  },
  {
   "cell_type": "code",
   "execution_count": 1,
   "metadata": {},
   "outputs": [],
   "source": [
    "# Prerequisites\n",
    "from pyspark.sql import SparkSession"
   ]
  },
  {
   "cell_type": "code",
   "execution_count": 2,
   "metadata": {},
   "outputs": [
    {
     "name": "stdout",
     "output_type": "stream",
     "text": [
      "Spark Version:  3.5.0\n"
     ]
    }
   ],
   "source": [
    "# Get SparkSession\n",
    "spark = SparkSession.builder.master(\"local\").getOrCreate()\n",
    "print(\"Spark Version: \", spark.version)"
   ]
  },
  {
   "cell_type": "code",
   "execution_count": 3,
   "metadata": {},
   "outputs": [
    {
     "name": "stdout",
     "output_type": "stream",
     "text": [
      "+----------------------------------------------------------------------------------------------------------------------------------------------------------------------------------------------------------------------------------------------------------------------------------------------------------------------------------------------------------------------------------------------------------------------------------------------------------------------------------------------------------------------------------------------------------------------------------------------------------------------------------------------------------------------------------------------------------------------------------------------------------------------------------------------------------------------------------------------------------------------------------------------------------------------------------------------------------------------------------------------------------------------------------------------------------------------+\n",
      "|value                                                                                                                                                                                                                                                                                                                                                                                                                                                                                                                                                                                                                                                                                                                                                                                                                                                                                                                                                                                                                                                                 |\n",
      "+----------------------------------------------------------------------------------------------------------------------------------------------------------------------------------------------------------------------------------------------------------------------------------------------------------------------------------------------------------------------------------------------------------------------------------------------------------------------------------------------------------------------------------------------------------------------------------------------------------------------------------------------------------------------------------------------------------------------------------------------------------------------------------------------------------------------------------------------------------------------------------------------------------------------------------------------------------------------------------------------------------------------------------------------------------------------+\n",
      "|dLorem ipsum dolor sit amet, consectetur adipiscing elit. Proin commodo posuere massa eget maximus. Integer eros felis, volutpat sed molestie et, lacinia et odio. Lorem ipsum dolor sit amet, consectetur adipiscing elit. Ut aliquam vestibulum diam, ac euismod metus semper ut. Duis tristique sollicitudin congue. Praesent nisl eros, congue sed velit at, fringilla bibendum libero. Nulla vitae nibh efficitur lorem porttitor auctor. Cras in massa auctor, rhoncus ante ut, laoreet orci. Nunc malesuada ultricies nulla vel accumsan. Curabitur sagittis nibh at fermentum eleifend. Praesent volutpat semper lectus. In efficitur sapien vitae enim mollis finibus.                                                                                                                                                                                                                                                                                                                                                                                       |\n",
      "|                                                                                                                                                                                                                                                                                                                                                                                                                                                                                                                                                                                                                                                                                                                                                                                                                                                                                                                                                                                                                                                                      |\n",
      "|Phasellus viverra sapien quis nunc tempor tristique. Pellentesque sit amet odio nec massa porttitor finibus. Mauris massa velit, bibendum vitae est vel, molestie aliquam velit. Sed a nisi imperdiet, efficitur nulla imperdiet, finibus magna. Aliquam id leo luctus, pellentesque erat convallis, facilisis ante. Vestibulum blandit porta quam, quis porta nisl volutpat sed. Aliquam facilisis nec mi at imperdiet. Nam mollis pharetra lectus at ullamcorper.                                                                                                                                                                                                                                                                                                                                                                                                                                                                                                                                                                                                   |\n",
      "|                                                                                                                                                                                                                                                                                                                                                                                                                                                                                                                                                                                                                                                                                                                                                                                                                                                                                                                                                                                                                                                                      |\n",
      "|Suspendisse malesuada a massa ac suscipit. Morbi rutrum sem sed sollicitudin malesuada. Integer placerat venenatis egestas. Quisque scelerisque aliquet justo id tristique. Mauris tempor justo sed commodo eleifend. Ut tempor urna ac lectus hendrerit, ut elementum erat euismod. Morbi mollis in arcu sed ornare. Aliquam fringilla urna nec mi efficitur, in laoreet orci vulputate. Nullam sit amet elit scelerisque, pulvinar orci vel, blandit libero. Nulla facilisi. Aenean malesuada ullamcorper neque vitae malesuada.                                                                                                                                                                                                                                                                                                                                                                                                                                                                                                                                    |\n",
      "|                                                                                                                                                                                                                                                                                                                                                                                                                                                                                                                                                                                                                                                                                                                                                                                                                                                                                                                                                                                                                                                                      |\n",
      "|Duis id efficitur orci, vel ornare arcu. Duis maximus in urna quis lacinia. Fusce sem neque, auctor non elit eget, mollis pharetra lectus. Pellentesque risus augue, vulputate nec molestie fringilla, semper et velit. Phasellus laoreet odio at varius dictum. Fusce sodales erat non urna pellentesque, eget sagittis felis fringilla. Duis egestas placerat auctor. Suspendisse potenti. Nunc laoreet elementum eleifend. Nunc pretium ullamcorper dui vitae ornare. Sed nec vehicula ligula, vitae imperdiet odio.                                                                                                                                                                                                                                                                                                                                                                                                                                                                                                                                               |\n",
      "|                                                                                                                                                                                                                                                                                                                                                                                                                                                                                                                                                                                                                                                                                                                                                                                                                                                                                                                                                                                                                                                                      |\n",
      "|Praesent auctor ex at tellus ullamcorper, tempus vulputate ligula gravida. Suspendisse vulputate risus ullamcorper turpis consequat, id euismod nisl mattis. Donec purus arcu, egestas id rhoncus et, tempor et ipsum. Nullam eget ante accumsan, pulvinar quam eu, lobortis lectus. Aliquam arcu enim, dapibus et felis ac, iaculis hendrerit odio. Sed lacinia maximus magna ut rutrum. Aenean leo mi, egestas sed tempus pretium, vulputate in lectus. Praesent vulputate sagittis tellus, ut gravida dolor placerat laoreet. Vestibulum posuere nisl nec lectus bibendum varius. Integer sagittis ultrices urna, vel venenatis nisl lacinia nec. Maecenas dolor dui, vehicula nec purus sit amet, sollicitudin feugiat orci. Nulla auctor hendrerit pretium. Aenean posuere, libero ut volutpat faucibus, enim leo finibus metus, ut posuere eros metus at ante. Sed vitae dui non nunc suscipit cursus eu non nisl. Proin lorem lorem, ultrices ac arcu efficitur, consectetur rutrum felis. Aliquam sagittis arcu quis massa maximus, a blandit velit imperdiet.|\n",
      "|                                                                                                                                                                                                                                                                                                                                                                                                                                                                                                                                                                                                                                                                                                                                                                                                                                                                                                                                                                                                                                                                      |\n",
      "+----------------------------------------------------------------------------------------------------------------------------------------------------------------------------------------------------------------------------------------------------------------------------------------------------------------------------------------------------------------------------------------------------------------------------------------------------------------------------------------------------------------------------------------------------------------------------------------------------------------------------------------------------------------------------------------------------------------------------------------------------------------------------------------------------------------------------------------------------------------------------------------------------------------------------------------------------------------------------------------------------------------------------------------------------------------------+\n",
      "only showing top 10 rows\n",
      "\n"
     ]
    }
   ],
   "source": [
    "# Read text file and show beginning\n",
    "txt = spark.read.text(\"data/lorem_ipsum.txt\")\n",
    "txt.show(10, truncate=False)"
   ]
  },
  {
   "cell_type": "code",
   "execution_count": 5,
   "metadata": {},
   "outputs": [
    {
     "name": "stdout",
     "output_type": "stream",
     "text": [
      "Number of lines:  39\n"
     ]
    }
   ],
   "source": [
    "# Number of lines\n",
    "print(\"Number of lines: \", txt.count())"
   ]
  },
  {
   "cell_type": "code",
   "execution_count": 6,
   "metadata": {},
   "outputs": [
    {
     "name": "stdout",
     "output_type": "stream",
     "text": [
      "Number of times word 'lorem' occurs:  8\n"
     ]
    }
   ],
   "source": [
    "# Number of words \"Lorem\"\n",
    "filtered = txt.filter(txt.value.contains(\"lorem\"))\n",
    "print(\"Number of times word 'lorem' occurs: \", filtered.count())"
   ]
  },
  {
   "cell_type": "code",
   "execution_count": null,
   "metadata": {},
   "outputs": [],
   "source": []
  }
 ],
 "metadata": {
  "kernelspec": {
   "display_name": "Python 3 (ipykernel)",
   "language": "python",
   "name": "python3"
  },
  "language_info": {
   "codemirror_mode": {
    "name": "ipython",
    "version": 3
   },
   "file_extension": ".py",
   "mimetype": "text/x-python",
   "name": "python",
   "nbconvert_exporter": "python",
   "pygments_lexer": "ipython3",
   "version": "3.11.6"
  }
 },
 "nbformat": 4,
 "nbformat_minor": 2
}
