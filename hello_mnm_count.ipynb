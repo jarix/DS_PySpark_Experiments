{
 "cells": [
  {
   "cell_type": "markdown",
   "metadata": {},
   "source": [
    "## Count M&Ms"
   ]
  },
  {
   "cell_type": "code",
   "execution_count": 1,
   "metadata": {},
   "outputs": [],
   "source": [
    "# Prerequisites\n",
    "from pyspark.sql import SparkSession\n",
    "from pyspark.sql.functions import * "
   ]
  },
  {
   "cell_type": "code",
   "execution_count": 2,
   "metadata": {},
   "outputs": [
    {
     "name": "stdout",
     "output_type": "stream",
     "text": [
      "Spark Version:  3.5.0\n"
     ]
    }
   ],
   "source": [
    "# Get SparkSession\n",
    "spark = SparkSession.builder.master(\"local\").getOrCreate()\n",
    "print(\"Spark Version: \", spark.version)"
   ]
  },
  {
   "cell_type": "code",
   "execution_count": 8,
   "metadata": {},
   "outputs": [
    {
     "data": {
      "text/plain": [
       "DataFrame[State: string, Color: string, Count: int]"
      ]
     },
     "metadata": {},
     "output_type": "display_data"
    }
   ],
   "source": [
    "# Read CSV file and infer the schema\n",
    "df_mnm = (spark\n",
    "          .read\n",
    "          .format(\"csv\")\n",
    "          .option(\"header\",\"true\")\n",
    "          .option(\"inferSchema\",\"true\")\n",
    "          .load(\"data/mnm_dataset.csv\"))\n",
    "\n",
    "display(df_mnm)"
   ]
  },
  {
   "cell_type": "code",
   "execution_count": 9,
   "metadata": {},
   "outputs": [
    {
     "name": "stdout",
     "output_type": "stream",
     "text": [
      "+-----+------+-----+\n",
      "|State| Color|Count|\n",
      "+-----+------+-----+\n",
      "|   TX|   Red|   20|\n",
      "|   NV|  Blue|   66|\n",
      "|   CO|  Blue|   79|\n",
      "|   OR|  Blue|   71|\n",
      "|   WA|Yellow|   93|\n",
      "|   WY|  Blue|   16|\n",
      "|   CA|Yellow|   53|\n",
      "|   WA| Green|   60|\n",
      "|   OR| Green|   71|\n",
      "|   TX| Green|   68|\n",
      "|   NV| Green|   59|\n",
      "|   AZ| Brown|   95|\n",
      "|   WA|Yellow|   20|\n",
      "|   AZ|  Blue|   75|\n",
      "|   OR| Brown|   72|\n",
      "|   NV|   Red|   98|\n",
      "|   WY|Orange|   45|\n",
      "|   CO|  Blue|   52|\n",
      "|   TX| Brown|   94|\n",
      "|   CO|   Red|   82|\n",
      "+-----+------+-----+\n",
      "only showing top 20 rows\n",
      "\n"
     ]
    }
   ],
   "source": [
    "df_mnm.show()"
   ]
  },
  {
   "cell_type": "code",
   "execution_count": 10,
   "metadata": {},
   "outputs": [
    {
     "name": "stdout",
     "output_type": "stream",
     "text": [
      "Total number of rows:  99999\n"
     ]
    }
   ],
   "source": [
    "print(\"Total number of rows: \", df_mnm.count())"
   ]
  },
  {
   "cell_type": "code",
   "execution_count": 11,
   "metadata": {},
   "outputs": [
    {
     "name": "stdout",
     "output_type": "stream",
     "text": [
      "root\n",
      " |-- State: string (nullable = true)\n",
      " |-- Color: string (nullable = true)\n",
      " |-- Count: integer (nullable = true)\n",
      "\n"
     ]
    }
   ],
   "source": [
    "df_mnm.printSchema()"
   ]
  },
  {
   "cell_type": "code",
   "execution_count": 14,
   "metadata": {},
   "outputs": [
    {
     "name": "stdout",
     "output_type": "stream",
     "text": [
      "+------+-----+\n",
      "| Color|Total|\n",
      "+------+-----+\n",
      "| Green|16928|\n",
      "|Yellow|16796|\n",
      "|Orange|16697|\n",
      "|   Red|16619|\n",
      "| Brown|16510|\n",
      "|  Blue|16449|\n",
      "+------+-----+\n",
      "\n",
      "# of different colors =  6\n"
     ]
    }
   ],
   "source": [
    "# Aggregate count of colors \n",
    "df_mnm_count = (df_mnm\n",
    "                .select(\"State\",\"Color\",\"Count\")\n",
    "                .groupBy(\"Color\")\n",
    "                .agg(count('Count').alias(\"Total\"))\n",
    "                .orderBy(\"Total\", ascending=False))\n",
    "\n",
    "df_mnm_count.show()\n",
    "print(\"# of different colors = \", df_mnm_count.count())"
   ]
  },
  {
   "cell_type": "code",
   "execution_count": 16,
   "metadata": {},
   "outputs": [
    {
     "name": "stdout",
     "output_type": "stream",
     "text": [
      "+-----+------+--------+\n",
      "|State| Color|Total WA|\n",
      "+-----+------+--------+\n",
      "|   WA| Green|    1779|\n",
      "|   WA|   Red|    1671|\n",
      "|   WA| Brown|    1669|\n",
      "|   WA|Yellow|    1663|\n",
      "|   WA|Orange|    1658|\n",
      "|   WA|  Blue|    1625|\n",
      "+-----+------+--------+\n",
      "\n"
     ]
    }
   ],
   "source": [
    "# Aggregate counts for Washington State by filtering on State\n",
    "\n",
    "df_mnm_wa = (df_mnm\n",
    "            .select(\"State\",\"Color\",\"Count\")\n",
    "            .where(df_mnm.State == \"WA\")\n",
    "            .groupBy(\"State\", \"Color\")\n",
    "            .agg(count('Count').alias(\"Total WA\"))\n",
    "            .orderBy(\"Total WA\", ascending=False))\n",
    "\n",
    "df_mnm_wa.show()"
   ]
  },
  {
   "cell_type": "code",
   "execution_count": 18,
   "metadata": {},
   "outputs": [
    {
     "data": {
      "text/plain": [
       "[Row(State='TX', Color='Red', Count=20),\n",
       " Row(State='NV', Color='Blue', Count=66),\n",
       " Row(State='CO', Color='Blue', Count=79),\n",
       " Row(State='OR', Color='Blue', Count=71),\n",
       " Row(State='WA', Color='Yellow', Count=93)]"
      ]
     },
     "execution_count": 18,
     "metadata": {},
     "output_type": "execute_result"
    }
   ],
   "source": [
    "df_mnm.head(5)"
   ]
  },
  {
   "cell_type": "code",
   "execution_count": null,
   "metadata": {},
   "outputs": [],
   "source": []
  }
 ],
 "metadata": {
  "kernelspec": {
   "display_name": "Python 3 (ipykernel)",
   "language": "python",
   "name": "python3"
  },
  "language_info": {
   "codemirror_mode": {
    "name": "ipython",
    "version": 3
   },
   "file_extension": ".py",
   "mimetype": "text/x-python",
   "name": "python",
   "nbconvert_exporter": "python",
   "pygments_lexer": "ipython3",
   "version": "3.11.6"
  }
 },
 "nbformat": 4,
 "nbformat_minor": 2
}
