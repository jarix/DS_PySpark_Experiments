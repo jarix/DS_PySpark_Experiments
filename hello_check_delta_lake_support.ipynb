{
 "cells": [
  {
   "cell_type": "markdown",
   "metadata": {},
   "source": [
    "## Hello Check Delta Lake Support \n",
    "Check if PySpark Environment is configured for Delta Lake"
   ]
  },
  {
   "cell_type": "code",
   "execution_count": 1,
   "metadata": {},
   "outputs": [],
   "source": [
    "# PreRequisites\n",
    "from pyspark.sql import SparkSession"
   ]
  },
  {
   "cell_type": "code",
   "execution_count": 2,
   "metadata": {},
   "outputs": [
    {
     "name": "stdout",
     "output_type": "stream",
     "text": [
      "Spark Version:  3.4.1\n"
     ]
    }
   ],
   "source": [
    "# Initialize Spark session\n",
    "spark = SparkSession.builder \\\n",
    "    .appName(\"hello_check_delta_lake_support\") \\\n",
    "    .config(\"spark.sql.extensions\", \"io.delta.sql.DeltaSparkSessionExtension\") \\\n",
    "    .config(\"spark.sql.catalog.spark_catalog\", \"org.apache.spark.sql.delta.catalog.DeltaCatalog\") \\\n",
    "    .getOrCreate()\n",
    "\n",
    "print(\"Spark Version: \", spark.version)"
   ]
  },
  {
   "cell_type": "code",
   "execution_count": 3,
   "metadata": {},
   "outputs": [
    {
     "name": "stdout",
     "output_type": "stream",
     "text": [
      "Delta Lake is supported in this Spark environment.\n"
     ]
    }
   ],
   "source": [
    "# CHeck if Delta lake is supported and configured\n",
    "\n",
    "try:\n",
    "    # Check if Delta Lake is available by attempting to use Delta format\n",
    "    delta_support_check = spark.conf.get(\"spark.sql.extensions\")\n",
    "    if \"io.delta.sql.DeltaSparkSessionExtension\" in delta_support_check:\n",
    "        print(\"Delta Lake is supported in this Spark environment.\")\n",
    "    else:\n",
    "        print(\"Delta Lake is NOT supported in this Spark environment.\")\n",
    "except Exception as e:\n",
    "    print(\"An error occurred while checking Delta Lake support:\", str(e))"
   ]
  },
  {
   "cell_type": "code",
   "execution_count": null,
   "metadata": {},
   "outputs": [],
   "source": []
  }
 ],
 "metadata": {
  "kernelspec": {
   "display_name": "Python 3 (ipykernel)",
   "language": "python",
   "name": "python3"
  },
  "language_info": {
   "codemirror_mode": {
    "name": "ipython",
    "version": 3
   },
   "file_extension": ".py",
   "mimetype": "text/x-python",
   "name": "python",
   "nbconvert_exporter": "python",
   "pygments_lexer": "ipython3",
   "version": "3.11.5"
  }
 },
 "nbformat": 4,
 "nbformat_minor": 2
}
