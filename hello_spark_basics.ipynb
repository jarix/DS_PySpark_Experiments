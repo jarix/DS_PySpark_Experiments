{
 "cells": [
  {
   "cell_type": "markdown",
   "metadata": {},
   "source": [
    "# Spark Basics"
   ]
  },
  {
   "cell_type": "markdown",
   "metadata": {},
   "source": [
    "#### Count lines and words in a text file"
   ]
  },
  {
   "cell_type": "code",
   "execution_count": 1,
   "metadata": {},
   "outputs": [],
   "source": [
    "# Prerequisites\n",
    "from pyspark.sql import SparkSession"
   ]
  },
  {
   "cell_type": "code",
   "execution_count": 2,
   "metadata": {},
   "outputs": [
    {
     "name": "stdout",
     "output_type": "stream",
     "text": [
      "Spark Version:  3.5.0\n"
     ]
    }
   ],
   "source": [
    "# Get SparkSession\n",
    "spark = SparkSession.builder.master(\"local\").getOrCreate()\n",
    "print(\"Spark Version: \", spark.version)"
   ]
  },
  {
   "cell_type": "code",
   "execution_count": 3,
   "metadata": {},
   "outputs": [
    {
     "name": "stdout",
     "output_type": "stream",
     "text": [
      "Type of Spark object:  <class 'pyspark.sql.session.SparkSession'>\n"
     ]
    }
   ],
   "source": [
    "print(\"Type of Spark object: \", type(spark))"
   ]
  },
  {
   "cell_type": "code",
   "execution_count": 4,
   "metadata": {},
   "outputs": [
    {
     "name": "stdout",
     "output_type": "stream",
     "text": [
      "+----------------------------------------------------------------------------------------------------------------------------------------------------------------------------------------------------------------------------------------------------------------------------------------------------------------------------------------------------------------------------------------------------------------------------------------------------------------------------------------------------------------------------------------------------------------------------------------------------------------------------------------------------------------------------------------------------------------------------------------------------------------------------------------------------------------------------------------------------------------------------------------------------------------------------------------------------------------------------------------------------------------------------------------------------------------------+\n",
      "|value                                                                                                                                                                                                                                                                                                                                                                                                                                                                                                                                                                                                                                                                                                                                                                                                                                                                                                                                                                                                                                                                 |\n",
      "+----------------------------------------------------------------------------------------------------------------------------------------------------------------------------------------------------------------------------------------------------------------------------------------------------------------------------------------------------------------------------------------------------------------------------------------------------------------------------------------------------------------------------------------------------------------------------------------------------------------------------------------------------------------------------------------------------------------------------------------------------------------------------------------------------------------------------------------------------------------------------------------------------------------------------------------------------------------------------------------------------------------------------------------------------------------------+\n",
      "|dLorem ipsum dolor sit amet, consectetur adipiscing elit. Proin commodo posuere massa eget maximus. Integer eros felis, volutpat sed molestie et, lacinia et odio. Lorem ipsum dolor sit amet, consectetur adipiscing elit. Ut aliquam vestibulum diam, ac euismod metus semper ut. Duis tristique sollicitudin congue. Praesent nisl eros, congue sed velit at, fringilla bibendum libero. Nulla vitae nibh efficitur lorem porttitor auctor. Cras in massa auctor, rhoncus ante ut, laoreet orci. Nunc malesuada ultricies nulla vel accumsan. Curabitur sagittis nibh at fermentum eleifend. Praesent volutpat semper lectus. In efficitur sapien vitae enim mollis finibus.                                                                                                                                                                                                                                                                                                                                                                                       |\n",
      "|                                                                                                                                                                                                                                                                                                                                                                                                                                                                                                                                                                                                                                                                                                                                                                                                                                                                                                                                                                                                                                                                      |\n",
      "|Phasellus viverra sapien quis nunc tempor tristique. Pellentesque sit amet odio nec massa porttitor finibus. Mauris massa velit, bibendum vitae est vel, molestie aliquam velit. Sed a nisi imperdiet, efficitur nulla imperdiet, finibus magna. Aliquam id leo luctus, pellentesque erat convallis, facilisis ante. Vestibulum blandit porta quam, quis porta nisl volutpat sed. Aliquam facilisis nec mi at imperdiet. Nam mollis pharetra lectus at ullamcorper.                                                                                                                                                                                                                                                                                                                                                                                                                                                                                                                                                                                                   |\n",
      "|                                                                                                                                                                                                                                                                                                                                                                                                                                                                                                                                                                                                                                                                                                                                                                                                                                                                                                                                                                                                                                                                      |\n",
      "|Suspendisse malesuada a massa ac suscipit. Morbi rutrum sem sed sollicitudin malesuada. Integer placerat venenatis egestas. Quisque scelerisque aliquet justo id tristique. Mauris tempor justo sed commodo eleifend. Ut tempor urna ac lectus hendrerit, ut elementum erat euismod. Morbi mollis in arcu sed ornare. Aliquam fringilla urna nec mi efficitur, in laoreet orci vulputate. Nullam sit amet elit scelerisque, pulvinar orci vel, blandit libero. Nulla facilisi. Aenean malesuada ullamcorper neque vitae malesuada.                                                                                                                                                                                                                                                                                                                                                                                                                                                                                                                                    |\n",
      "|                                                                                                                                                                                                                                                                                                                                                                                                                                                                                                                                                                                                                                                                                                                                                                                                                                                                                                                                                                                                                                                                      |\n",
      "|Duis id efficitur orci, vel ornare arcu. Duis maximus in urna quis lacinia. Fusce sem neque, auctor non elit eget, mollis pharetra lectus. Pellentesque risus augue, vulputate nec molestie fringilla, semper et velit. Phasellus laoreet odio at varius dictum. Fusce sodales erat non urna pellentesque, eget sagittis felis fringilla. Duis egestas placerat auctor. Suspendisse potenti. Nunc laoreet elementum eleifend. Nunc pretium ullamcorper dui vitae ornare. Sed nec vehicula ligula, vitae imperdiet odio.                                                                                                                                                                                                                                                                                                                                                                                                                                                                                                                                               |\n",
      "|                                                                                                                                                                                                                                                                                                                                                                                                                                                                                                                                                                                                                                                                                                                                                                                                                                                                                                                                                                                                                                                                      |\n",
      "|Praesent auctor ex at tellus ullamcorper, tempus vulputate ligula gravida. Suspendisse vulputate risus ullamcorper turpis consequat, id euismod nisl mattis. Donec purus arcu, egestas id rhoncus et, tempor et ipsum. Nullam eget ante accumsan, pulvinar quam eu, lobortis lectus. Aliquam arcu enim, dapibus et felis ac, iaculis hendrerit odio. Sed lacinia maximus magna ut rutrum. Aenean leo mi, egestas sed tempus pretium, vulputate in lectus. Praesent vulputate sagittis tellus, ut gravida dolor placerat laoreet. Vestibulum posuere nisl nec lectus bibendum varius. Integer sagittis ultrices urna, vel venenatis nisl lacinia nec. Maecenas dolor dui, vehicula nec purus sit amet, sollicitudin feugiat orci. Nulla auctor hendrerit pretium. Aenean posuere, libero ut volutpat faucibus, enim leo finibus metus, ut posuere eros metus at ante. Sed vitae dui non nunc suscipit cursus eu non nisl. Proin lorem lorem, ultrices ac arcu efficitur, consectetur rutrum felis. Aliquam sagittis arcu quis massa maximus, a blandit velit imperdiet.|\n",
      "|                                                                                                                                                                                                                                                                                                                                                                                                                                                                                                                                                                                                                                                                                                                                                                                                                                                                                                                                                                                                                                                                      |\n",
      "+----------------------------------------------------------------------------------------------------------------------------------------------------------------------------------------------------------------------------------------------------------------------------------------------------------------------------------------------------------------------------------------------------------------------------------------------------------------------------------------------------------------------------------------------------------------------------------------------------------------------------------------------------------------------------------------------------------------------------------------------------------------------------------------------------------------------------------------------------------------------------------------------------------------------------------------------------------------------------------------------------------------------------------------------------------------------+\n",
      "only showing top 10 rows\n",
      "\n"
     ]
    }
   ],
   "source": [
    "# Read text file and show beginning\n",
    "df_txt = spark.read.text(\"data/lorem_ipsum.txt\")\n",
    "df_txt.show(10, truncate=False)"
   ]
  },
  {
   "cell_type": "code",
   "execution_count": 5,
   "metadata": {},
   "outputs": [
    {
     "name": "stdout",
     "output_type": "stream",
     "text": [
      "Number of lines:  39\n"
     ]
    }
   ],
   "source": [
    "# Number of lines\n",
    "print(\"Number of lines: \", df_txt.count())"
   ]
  },
  {
   "cell_type": "code",
   "execution_count": 6,
   "metadata": {},
   "outputs": [
    {
     "name": "stdout",
     "output_type": "stream",
     "text": [
      "Number of times word 'lorem' occurs:  8\n"
     ]
    }
   ],
   "source": [
    "# Number of words \"Lorem\"\n",
    "filtered = df_txt.filter(df_txt.value.contains(\"lorem\"))\n",
    "print(\"Number of times word 'lorem' occurs: \", filtered.count())"
   ]
  },
  {
   "cell_type": "markdown",
   "metadata": {},
   "source": [
    "#### Read Text data into Partitions"
   ]
  },
  {
   "cell_type": "code",
   "execution_count": 7,
   "metadata": {},
   "outputs": [
    {
     "name": "stdout",
     "output_type": "stream",
     "text": [
      "Numer of partitions:  4\n",
      "+-------------------------------------------------------------------------------------------------------------------------------------------------------------------------------------------------------------------------------------------------------------------------------------------------------------------------------------------------------------------------------------------------------------------------------------------------------------------------------------------------------------------------------------------------------------------------------------------------------------------------------------------------------------------------------+\n",
      "|value                                                                                                                                                                                                                                                                                                                                                                                                                                                                                                                                                                                                                                                                          |\n",
      "+-------------------------------------------------------------------------------------------------------------------------------------------------------------------------------------------------------------------------------------------------------------------------------------------------------------------------------------------------------------------------------------------------------------------------------------------------------------------------------------------------------------------------------------------------------------------------------------------------------------------------------------------------------------------------------+\n",
      "|Phasellus viverra sapien quis nunc tempor tristique. Pellentesque sit amet odio nec massa porttitor finibus. Mauris massa velit, bibendum vitae est vel, molestie aliquam velit. Sed a nisi imperdiet, efficitur nulla imperdiet, finibus magna. Aliquam id leo luctus, pellentesque erat convallis, facilisis ante. Vestibulum blandit porta quam, quis porta nisl volutpat sed. Aliquam facilisis nec mi at imperdiet. Nam mollis pharetra lectus at ullamcorper.                                                                                                                                                                                                            |\n",
      "|dLorem ipsum dolor sit amet, consectetur adipiscing elit. Proin commodo posuere massa eget maximus. Integer eros felis, volutpat sed molestie et, lacinia et odio. Lorem ipsum dolor sit amet, consectetur adipiscing elit. Ut aliquam vestibulum diam, ac euismod metus semper ut. Duis tristique sollicitudin congue. Praesent nisl eros, congue sed velit at, fringilla bibendum libero. Nulla vitae nibh efficitur lorem porttitor auctor. Cras in massa auctor, rhoncus ante ut, laoreet orci. Nunc malesuada ultricies nulla vel accumsan. Curabitur sagittis nibh at fermentum eleifend. Praesent volutpat semper lectus. In efficitur sapien vitae enim mollis finibus.|\n",
      "|                                                                                                                                                                                                                                                                                                                                                                                                                                                                                                                                                                                                                                                                               |\n",
      "|                                                                                                                                                                                                                                                                                                                                                                                                                                                                                                                                                                                                                                                                               |\n",
      "|                                                                                                                                                                                                                                                                                                                                                                                                                                                                                                                                                                                                                                                                               |\n",
      "|                                                                                                                                                                                                                                                                                                                                                                                                                                                                                                                                                                                                                                                                               |\n",
      "|                                                                                                                                                                                                                                                                                                                                                                                                                                                                                                                                                                                                                                                                               |\n",
      "|Donec ac magna non lorem efficitur efficitur. Vivamus ut dolor ultricies, cursus dolor vitae, posuere nisi. Phasellus hendrerit, enim sit amet rhoncus luctus, dolor felis egestas est, at condimentum urna ipsum id nisi. Cras condimentum tellus id purus rhoncus, vitae cursus ligula porta. Pellentesque non turpis dolor. Ut dui erat, lobortis quis elementum sit amet, ullamcorper ac augue. Suspendisse potenti. Quisque tincidunt metus orci.                                                                                                                                                                                                                         |\n",
      "|Donec eros tellus, convallis et enim vel, ultrices eleifend orci. Vivamus pellentesque convallis dui, aliquam lobortis dolor luctus quis. Suspendisse quis nibh ex. Suspendisse blandit mauris purus, eu mollis dui aliquet quis. Donec vitae dolor odio. Vestibulum fermentum ut lorem non placerat. In ac ante ultricies, aliquam lacus eu, feugiat ipsum. Pellentesque tortor nulla, vehicula in orci at, ullamcorper cursus est. Quisque vel dapibus erat. Fusce ullamcorper lacinia purus a feugiat. Fusce nec elementum ex. In sollicitudin pellentesque odio venenatis molestie.                                                                                        |\n",
      "|Aliquam in massa sem. Pellentesque felis justo, accumsan nec ex a, semper ultricies tortor. Vestibulum risus nisl, lacinia quis posuere ac, laoreet at mauris. Fusce dictum sed tortor non mattis. Praesent volutpat sagittis mi. Praesent suscipit molestie urna vitae luctus. Pellentesque porta eros neque, vitae posuere augue egestas vel. Quisque in nisl pulvinar, pretium quam ac, accumsan odio. Donec pharetra efficitur turpis. Cras blandit ligula et arcu convallis, et pulvinar augue varius.                                                                                                                                                                    |\n",
      "+-------------------------------------------------------------------------------------------------------------------------------------------------------------------------------------------------------------------------------------------------------------------------------------------------------------------------------------------------------------------------------------------------------------------------------------------------------------------------------------------------------------------------------------------------------------------------------------------------------------------------------------------------------------------------------+\n",
      "only showing top 10 rows\n",
      "\n"
     ]
    }
   ],
   "source": [
    "# Read data into partitions\n",
    "df_txt_2 = spark.read.text(\"data/lorem_ipsum.txt\").repartition(4)\n",
    "print(\"Numer of partitions: \", df_txt_2.rdd.getNumPartitions())\n",
    "df_txt_2.show(n=10, truncate=False)"
   ]
  },
  {
   "cell_type": "markdown",
   "metadata": {},
   "source": [
    "### Partition table of integers"
   ]
  },
  {
   "cell_type": "code",
   "execution_count": 8,
   "metadata": {},
   "outputs": [
    {
     "name": "stdout",
     "output_type": "stream",
     "text": [
      "Numer of partitions:  8\n",
      "+---+\n",
      "| id|\n",
      "+---+\n",
      "|  0|\n",
      "|  1|\n",
      "|  2|\n",
      "|  3|\n",
      "|  4|\n",
      "|  5|\n",
      "|  6|\n",
      "|  7|\n",
      "|  8|\n",
      "|  9|\n",
      "| 10|\n",
      "| 11|\n",
      "| 12|\n",
      "| 13|\n",
      "| 14|\n",
      "| 15|\n",
      "| 16|\n",
      "| 17|\n",
      "| 18|\n",
      "| 19|\n",
      "+---+\n",
      "only showing top 20 rows\n",
      "\n"
     ]
    }
   ],
   "source": [
    "# place 1000 intergers into 8 partititions\n",
    "df_ints = spark.range(0, 10000, 1, 8)\n",
    "print(\"Numer of partitions: \", df_ints.rdd.getNumPartitions())\n",
    "df_ints.show()"
   ]
  },
  {
   "cell_type": "markdown",
   "metadata": {},
   "source": [
    "#### collect() Action\n",
    "In Apache Spark, the collect() function is used to retrieve all elements of a distributed dataset (RDD, DataFrame, or Dataset) to the driver program as a list or array. This is often used when you need to perform actions on the entire dataset locally."
   ]
  },
  {
   "cell_type": "code",
   "execution_count": 9,
   "metadata": {},
   "outputs": [
    {
     "name": "stdout",
     "output_type": "stream",
     "text": [
      "+-------+---+\n",
      "|   Name|Age|\n",
      "+-------+---+\n",
      "|  Alice| 25|\n",
      "|    Bob| 30|\n",
      "|Charlie| 35|\n",
      "+-------+---+\n",
      "\n"
     ]
    }
   ],
   "source": [
    "# Create a DataFrame\n",
    "data = [(\"Alice\", 25), (\"Bob\", 30), (\"Charlie\", 35)]\n",
    "columns = [\"Name\", \"Age\"]\n",
    "df_names = spark.createDataFrame(data, columns)\n",
    "\n",
    "df_names.show()"
   ]
  },
  {
   "cell_type": "code",
   "execution_count": 11,
   "metadata": {},
   "outputs": [
    {
     "name": "stdout",
     "output_type": "stream",
     "text": [
      "Type of collected_data:  <class 'list'>\n",
      "Type of collected_data[0]:  <class 'pyspark.sql.types.Row'>\n",
      "Row(Name='Alice', Age=25)\n",
      "Row(Name='Bob', Age=30)\n",
      "Row(Name='Charlie', Age=35)\n"
     ]
    }
   ],
   "source": [
    "# Use collect to bring all rows to the driver\n",
    "collected_data = df_names.collect()\n",
    "\n",
    "print(\"Type of collected_data: \", type(collected_data))\n",
    "print(\"Type of collected_data[0]: \", type(collected_data[0]))\n",
    "# Print the collected rows\n",
    "for row in collected_data:\n",
    "    print(row)"
   ]
  },
  {
   "cell_type": "markdown",
   "metadata": {},
   "source": [
    "### take() Action\n",
    "The take() function in Apache Spark is an action used to retrieve a specified number of elements from a distributed dataset (RDD, DataFrame, or Dataset)."
   ]
  },
  {
   "cell_type": "code",
   "execution_count": 12,
   "metadata": {},
   "outputs": [
    {
     "name": "stdout",
     "output_type": "stream",
     "text": [
      "First 3 Elements: [10, 20, 30]\n",
      "Type of result:  <class 'list'>\n"
     ]
    }
   ],
   "source": [
    "# Create an RDD\n",
    "rdd = spark.sparkContext.parallelize([10, 20, 30, 40, 50, 60, 70, 80, 90, 100])\n",
    "\n",
    "# Use take to fetch the first 3 elements\n",
    "result = rdd.take(3)\n",
    "\n",
    "print(\"First 3 Elements:\", result)\n",
    "print(\"Type of result: \", type(result))"
   ]
  },
  {
   "cell_type": "markdown",
   "metadata": {},
   "source": [
    "#### Create a DataFrame Manually from Rows"
   ]
  },
  {
   "cell_type": "code",
   "execution_count": 13,
   "metadata": {},
   "outputs": [
    {
     "name": "stdout",
     "output_type": "stream",
     "text": [
      "+----------+-----+\n",
      "|      Name|State|\n",
      "+----------+-----+\n",
      "|John Smith|   CA|\n",
      "|  Jane Doe|   WA|\n",
      "+----------+-----+\n",
      "\n"
     ]
    }
   ],
   "source": [
    "from pyspark.sql import Row\n",
    "\n",
    "rows = [Row(\"John Smith\", \"CA\"), Row(\"Jane Doe\", \"WA\")]\n",
    "df_persons = spark.createDataFrame(rows, [\"Name\", \"State\"])\n",
    "\n",
    "df_persons.show()"
   ]
  },
  {
   "cell_type": "code",
   "execution_count": null,
   "metadata": {},
   "outputs": [],
   "source": []
  }
 ],
 "metadata": {
  "kernelspec": {
   "display_name": "Python 3 (ipykernel)",
   "language": "python",
   "name": "python3"
  },
  "language_info": {
   "codemirror_mode": {
    "name": "ipython",
    "version": 3
   },
   "file_extension": ".py",
   "mimetype": "text/x-python",
   "name": "python",
   "nbconvert_exporter": "python",
   "pygments_lexer": "ipython3",
   "version": "3.11.6"
  }
 },
 "nbformat": 4,
 "nbformat_minor": 2
}
