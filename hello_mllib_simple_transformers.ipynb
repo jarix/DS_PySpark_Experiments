{
 "cells": [
  {
   "cell_type": "markdown",
   "metadata": {},
   "source": [
    "# Hello MLLib Transformers"
   ]
  },
  {
   "cell_type": "code",
   "execution_count": 22,
   "metadata": {},
   "outputs": [],
   "source": [
    "# Prereqquisites\n",
    "from pyspark.sql import SparkSession"
   ]
  },
  {
   "cell_type": "code",
   "execution_count": 23,
   "metadata": {},
   "outputs": [
    {
     "name": "stdout",
     "output_type": "stream",
     "text": [
      "Spark Version:  3.4.1\n"
     ]
    }
   ],
   "source": [
    "# Spark Session and Context\n",
    "spark = SparkSession.builder.master(\"local\").getOrCreate()\n",
    "sc = spark.sparkContext\n",
    "print(\"Spark Version: \", spark.version)"
   ]
  },
  {
   "cell_type": "markdown",
   "metadata": {},
   "source": [
    "### StringIndexer"
   ]
  },
  {
   "cell_type": "code",
   "execution_count": 25,
   "metadata": {},
   "outputs": [
    {
     "name": "stdout",
     "output_type": "stream",
     "text": [
      "+-----+\n",
      "|color|\n",
      "+-----+\n",
      "|  red|\n",
      "| blue|\n",
      "|green|\n",
      "|  red|\n",
      "| blue|\n",
      "+-----+\n",
      "\n"
     ]
    }
   ],
   "source": [
    "from pyspark.ml.feature import StringIndexer\n",
    "\n",
    "data = [(\"red\",), (\"blue\",), (\"green\",), (\"red\",), (\"blue\",)]\n",
    "\n",
    "df = spark.createDataFrame(data, [\"color\"])\n",
    "df.show()"
   ]
  },
  {
   "cell_type": "code",
   "execution_count": 26,
   "metadata": {},
   "outputs": [
    {
     "name": "stdout",
     "output_type": "stream",
     "text": [
      "+-----+----------+\n",
      "|color|colorIndex|\n",
      "+-----+----------+\n",
      "|  red|       1.0|\n",
      "| blue|       0.0|\n",
      "|green|       2.0|\n",
      "|  red|       1.0|\n",
      "| blue|       0.0|\n",
      "+-----+----------+\n",
      "\n",
      "['blue', 'red', 'green']\n"
     ]
    }
   ],
   "source": [
    "# Convert Strings to Indexes\n",
    "stringIndexer = StringIndexer(inputCol=\"color\", outputCol=\"colorIndex\")\n",
    "model = stringIndexer.fit(df)\n",
    "\n",
    "transformed_df = model.transform(df)\n",
    "transformed_df.show()\n",
    "\n",
    "# Accessing the mapping\n",
    "print(model.labels) "
   ]
  },
  {
   "cell_type": "code",
   "execution_count": null,
   "metadata": {},
   "outputs": [],
   "source": []
  }
 ],
 "metadata": {
  "kernelspec": {
   "display_name": "Python 3 (ipykernel)",
   "language": "python",
   "name": "python3"
  }
 },
 "nbformat": 4,
 "nbformat_minor": 2
}
