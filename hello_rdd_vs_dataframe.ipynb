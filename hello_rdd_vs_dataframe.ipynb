{
 "cells": [
  {
   "cell_type": "markdown",
   "metadata": {},
   "source": [
    "# RDD vs. DataFrame"
   ]
  },
  {
   "cell_type": "code",
   "execution_count": 1,
   "metadata": {},
   "outputs": [],
   "source": [
    "# Prerequisites\n",
    "from pyspark.sql import SparkSession \n",
    "from pyspark.sql.functions import *"
   ]
  },
  {
   "cell_type": "code",
   "execution_count": 2,
   "metadata": {},
   "outputs": [
    {
     "name": "stdout",
     "output_type": "stream",
     "text": [
      "Spark Version:  3.5.0\n"
     ]
    }
   ],
   "source": [
    "spark = SparkSession.builder.master(\"local\").getOrCreate()\n",
    "sc = spark.sparkContext\n",
    "print(\"Spark Version: \", spark.version)"
   ]
  },
  {
   "cell_type": "markdown",
   "metadata": {},
   "source": [
    "### RDD"
   ]
  },
  {
   "cell_type": "code",
   "execution_count": 4,
   "metadata": {},
   "outputs": [],
   "source": [
    "# Create a RDD of Tuples\n",
    "data_RDD = sc.parallelize([(\"Brooke\", 20), (\"Anna\", 31), (\"John\", 30), (\"Ted\", 35), (\"Brooke\", 25), (\"Anna\", 33)])"
   ]
  },
  {
   "cell_type": "code",
   "execution_count": 6,
   "metadata": {},
   "outputs": [],
   "source": [
    "# Use map and reducekey transformations with lambda functions\n",
    "# to aggregate and compute average\n",
    "ages_RDD = (data_RDD\n",
    "            .map(lambda x: (x[0], (x[1],1)))\n",
    "            .reduceByKey(lambda x, y: (x[0] + y[0], x[1] + y[1]))\n",
    "            .map(lambda x: (x[0], x[1][0]/x[1][1]))\n",
    "            )"
   ]
  },
  {
   "cell_type": "markdown",
   "metadata": {},
   "source": [
    "### DataFrame API"
   ]
  },
  {
   "cell_type": "code",
   "execution_count": 7,
   "metadata": {},
   "outputs": [
    {
     "name": "stdout",
     "output_type": "stream",
     "text": [
      "+------+--------+\n",
      "|  name|avg(age)|\n",
      "+------+--------+\n",
      "|Brooke|    22.5|\n",
      "|  Anna|    32.0|\n",
      "|  John|    19.0|\n",
      "|   Ted|    55.0|\n",
      "+------+--------+\n",
      "\n"
     ]
    }
   ],
   "source": [
    "data_df = spark.createDataFrame([(\"Brooke\", 20), (\"Anna\", 31), (\"John\", 19), (\"Ted\", 55), (\"Brooke\", 25), \n",
    "                                 (\"Anna\", 33)],[\"name\", \"age\"])\n",
    "\n",
    "# Group same names together, aggragete together and compute average\n",
    "ave_df = data_df.groupBy(\"name\").agg(avg(\"age\"))\n",
    "ave_df.show()"
   ]
  },
  {
   "cell_type": "code",
   "execution_count": null,
   "metadata": {},
   "outputs": [],
   "source": []
  }
 ],
 "metadata": {
  "kernelspec": {
   "display_name": "Python 3 (ipykernel)",
   "language": "python",
   "name": "python3"
  },
  "language_info": {
   "codemirror_mode": {
    "name": "ipython",
    "version": 3
   },
   "file_extension": ".py",
   "mimetype": "text/x-python",
   "name": "python",
   "nbconvert_exporter": "python",
   "pygments_lexer": "ipython3",
   "version": "3.11.6"
  }
 },
 "nbformat": 4,
 "nbformat_minor": 2
}
