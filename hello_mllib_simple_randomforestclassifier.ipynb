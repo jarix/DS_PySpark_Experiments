{
 "cells": [
  {
   "cell_type": "markdown",
   "metadata": {},
   "source": [
    "# Hello MLLib simple Random Classifier  "
   ]
  },
  {
   "cell_type": "code",
   "execution_count": 54,
   "metadata": {},
   "outputs": [],
   "source": [
    "# Prereqquisites\n",
    "from pyspark.sql import SparkSession"
   ]
  },
  {
   "cell_type": "code",
   "execution_count": 55,
   "metadata": {},
   "outputs": [
    {
     "name": "stdout",
     "output_type": "stream",
     "text": [
      "Spark Version:  3.4.1\n"
     ]
    }
   ],
   "source": [
    "# Spark Session and Context\n",
    "spark = SparkSession.builder.master(\"local\") \\\n",
    "        .appName(\"Simple_MLlib_Random_Forest_Classifier\") \\\n",
    "        .getOrCreate()\n",
    "print(\"Spark Version: \", spark.version)"
   ]
  },
  {
   "cell_type": "markdown",
   "metadata": {},
   "source": [
    "#### Create Data"
   ]
  },
  {
   "cell_type": "code",
   "execution_count": 56,
   "metadata": {},
   "outputs": [
    {
     "name": "stdout",
     "output_type": "stream",
     "text": [
      "+---+-----+--------+--------+--------+\n",
      "| id|label|feature1|feature2|feature3|\n",
      "+---+-----+--------+--------+--------+\n",
      "|  0|    A|     1.0|     0.1|     0.3|\n",
      "|  1|    B|     0.5|     0.8|     0.7|\n",
      "|  2|    A|     0.8|     0.6|     0.4|\n",
      "|  3|    C|     0.2|     0.3|     0.9|\n",
      "|  4|    B|     0.9|     0.5|     0.6|\n",
      "|  5|    C|     0.3|     0.7|     0.2|\n",
      "+---+-----+--------+--------+--------+\n",
      "\n"
     ]
    }
   ],
   "source": [
    "\n",
    "# Make up some sample data\n",
    "data = [\n",
    "    (0, \"A\", 1.0, 0.1, 0.3),\n",
    "    (1, \"B\", 0.5, 0.8, 0.7),\n",
    "    (2, \"A\", 0.8, 0.6, 0.4),\n",
    "    (3, \"C\", 0.2, 0.3, 0.9),\n",
    "    (4, \"B\", 0.9, 0.5, 0.6),\n",
    "    (5, \"C\", 0.3, 0.7, 0.2)\n",
    "]\n",
    "columns = [\"id\", \"label\", \"feature1\", \"feature2\", \"feature3\"]\n",
    "df = spark.createDataFrame(data, columns)\n",
    "df.show()"
   ]
  },
  {
   "cell_type": "code",
   "execution_count": 57,
   "metadata": {},
   "outputs": [
    {
     "name": "stdout",
     "output_type": "stream",
     "text": [
      "+---+-----+--------+--------+--------+-------------+--------------+--------------+-------------+----------+\n",
      "| id|label|feature1|feature2|feature3|label_indexed|feature_vector| rawPrediction|  probability|prediction|\n",
      "+---+-----+--------+--------+--------+-------------+--------------+--------------+-------------+----------+\n",
      "|  0|    A|     1.0|     0.1|     0.3|          2.0| [1.0,0.1,0.3]| [4.0,1.0,5.0]|[0.4,0.1,0.5]|       2.0|\n",
      "|  1|    B|     0.5|     0.8|     0.7|          0.0| [0.5,0.8,0.7]|[10.0,0.0,0.0]|[1.0,0.0,0.0]|       0.0|\n",
      "|  3|    C|     0.2|     0.3|     0.9|          1.0| [0.2,0.3,0.9]| [1.0,9.0,0.0]|[0.1,0.9,0.0]|       1.0|\n",
      "|  4|    B|     0.9|     0.5|     0.6|          0.0| [0.9,0.5,0.6]| [9.0,1.0,0.0]|[0.9,0.1,0.0]|       0.0|\n",
      "|  5|    C|     0.3|     0.7|     0.2|          1.0| [0.3,0.7,0.2]| [2.0,7.0,1.0]|[0.2,0.7,0.1]|       1.0|\n",
      "+---+-----+--------+--------+--------+-------------+--------------+--------------+-------------+----------+\n",
      "\n"
     ]
    }
   ],
   "source": [
    "from pyspark.ml import Pipeline\n",
    "from pyspark.ml.classification import RandomForestClassifier\n",
    "from pyspark.ml.feature import VectorAssembler, StringIndexer\n",
    "\n",
    "# Index the Labels\n",
    "# Convert string labels (\"A\", \"B\", \"C\") into numeric labels (0, 1, 2)\n",
    "string_indexer = StringIndexer(inputCol=\"label\", outputCol=\"label_indexed\")\n",
    "\n",
    "# Assemble Features\n",
    "vec_assembler = VectorAssembler(inputCols=[\"feature1\", \"feature2\", \"feature3\"], outputCol=\"feature_vector\")\n",
    "\n",
    "# Split data into Train and Test datasets\n",
    "df_train, df_test = df.randomSplit([0.8, 0.2], seed=42)\n",
    "\n",
    "# Define Naive Bayes Classifier\n",
    "rf_classifier = RandomForestClassifier(featuresCol=\"feature_vector\", labelCol=\"label_indexed\", numTrees=10, maxDepth=5)\n",
    "\n",
    "\n",
    "# Build the Pipeline\n",
    "rf_pipeline = Pipeline(stages=[string_indexer, vec_assembler, rf_classifier])\n",
    "\n",
    "# Fit the Pipeline\n",
    "rf_pipeline_model = rf_pipeline.fit(df_train)\n",
    "\n",
    "# Make Predictions\n",
    "df_predictions = rf_pipeline_model.transform(df_train)\n",
    "\n",
    "df_predictions.show(5)"
   ]
  },
  {
   "cell_type": "code",
   "execution_count": 58,
   "metadata": {},
   "outputs": [
    {
     "name": "stdout",
     "output_type": "stream",
     "text": [
      "Accuracy: 1.0\n",
      "Precision: 1.0\n",
      "Recall: 1.0\n",
      "F1 Score: 1.0\n",
      "+---+--------------+-----+-------------+----------+-------------+\n",
      "| id|feature_vector|label|label_indexed|prediction|  probability|\n",
      "+---+--------------+-----+-------------+----------+-------------+\n",
      "|  0| [1.0,0.1,0.3]|    A|          2.0|       2.0|[0.4,0.1,0.5]|\n",
      "|  1| [0.5,0.8,0.7]|    B|          0.0|       0.0|[1.0,0.0,0.0]|\n",
      "|  3| [0.2,0.3,0.9]|    C|          1.0|       1.0|[0.1,0.9,0.0]|\n",
      "|  4| [0.9,0.5,0.6]|    B|          0.0|       0.0|[0.9,0.1,0.0]|\n",
      "|  5| [0.3,0.7,0.2]|    C|          1.0|       1.0|[0.2,0.7,0.1]|\n",
      "+---+--------------+-----+-------------+----------+-------------+\n",
      "\n"
     ]
    }
   ],
   "source": [
    "from pyspark.ml.evaluation import MulticlassClassificationEvaluator\n",
    "\n",
    "# Evaluate the Model\n",
    "# Evaluate accuracy\n",
    "evaluator = MulticlassClassificationEvaluator(\n",
    "    labelCol=\"label_indexed\", predictionCol=\"prediction\", metricName=\"accuracy\"\n",
    ")\n",
    "accuracy = evaluator.evaluate(df_predictions)\n",
    "print(f\"Accuracy: {accuracy}\")\n",
    "\n",
    "# Evaluate precision, recall, and F1-score\n",
    "precision_evaluator = MulticlassClassificationEvaluator(\n",
    "    labelCol=\"label_indexed\", predictionCol=\"prediction\", metricName=\"weightedPrecision\"\n",
    ")\n",
    "precision = precision_evaluator.evaluate(df_predictions)\n",
    "print(f\"Precision: {precision}\")\n",
    "\n",
    "recall_evaluator = MulticlassClassificationEvaluator(\n",
    "    labelCol=\"label_indexed\", predictionCol=\"prediction\", metricName=\"weightedRecall\"\n",
    ")\n",
    "recall = recall_evaluator.evaluate(df_predictions)\n",
    "print(f\"Recall: {recall}\")\n",
    "\n",
    "f1_evaluator = MulticlassClassificationEvaluator(\n",
    "    labelCol=\"label_indexed\", predictionCol=\"prediction\", metricName=\"f1\"\n",
    ")\n",
    "f1 = f1_evaluator.evaluate(df_predictions)\n",
    "print(f\"F1 Score: {f1}\")\n",
    "\n",
    "# Inspect Predictions\n",
    "df_predictions.select(\"id\", \"feature_vector\", \"label\", \"label_indexed\", \"prediction\", \"probability\").show(5)"
   ]
  },
  {
   "cell_type": "code",
   "execution_count": null,
   "metadata": {},
   "outputs": [],
   "source": []
  }
 ],
 "metadata": {
  "kernelspec": {
   "display_name": "Python 3 (ipykernel)",
   "language": "python",
   "name": "python3"
  },
  "language_info": {
   "codemirror_mode": {
    "name": "ipython",
    "version": 3
   },
   "file_extension": ".py",
   "mimetype": "text/x-python",
   "name": "python",
   "nbconvert_exporter": "python",
   "pygments_lexer": "ipython3",
   "version": "3.11.5"
  }
 },
 "nbformat": 4,
 "nbformat_minor": 2
}
