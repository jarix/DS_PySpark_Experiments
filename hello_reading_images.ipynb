{
 "cells": [
  {
   "cell_type": "markdown",
   "metadata": {},
   "source": [
    "# Hello loading images into Spark"
   ]
  },
  {
   "cell_type": "code",
   "execution_count": 3,
   "metadata": {},
   "outputs": [],
   "source": [
    "# Prerequisites\n",
    "from pyspark.sql import SparkSession\n",
    "from pyspark.ml import image"
   ]
  },
  {
   "cell_type": "code",
   "execution_count": 5,
   "metadata": {},
   "outputs": [
    {
     "name": "stdout",
     "output_type": "stream",
     "text": [
      "Spark Version:  3.5.0\n"
     ]
    }
   ],
   "source": [
    "# Get SparkSession\n",
    "spark = SparkSession.builder.master(\"local\") \\\n",
    "    .appName(\"hello_reading_images\") \\\n",
    "    .getOrCreate() \n",
    "print(\"Spark Version: \", spark.version)"
   ]
  },
  {
   "cell_type": "code",
   "execution_count": 6,
   "metadata": {},
   "outputs": [
    {
     "name": "stdout",
     "output_type": "stream",
     "text": [
      "root\n",
      " |-- image: struct (nullable = true)\n",
      " |    |-- origin: string (nullable = true)\n",
      " |    |-- height: integer (nullable = true)\n",
      " |    |-- width: integer (nullable = true)\n",
      " |    |-- nChannels: integer (nullable = true)\n",
      " |    |-- mode: integer (nullable = true)\n",
      " |    |-- data: binary (nullable = true)\n",
      " |-- label: integer (nullable = true)\n",
      "\n"
     ]
    }
   ],
   "source": [
    "images_file_path = \"data/train_images/\"\n",
    "\n",
    "df_images = spark.read.format(\"image\").load(images_file_path)\n",
    "df_images.printSchema()"
   ]
  },
  {
   "cell_type": "code",
   "execution_count": 7,
   "metadata": {},
   "outputs": [
    {
     "name": "stdout",
     "output_type": "stream",
     "text": [
      "+------+-----+---------+----+-----+\n",
      "|height|width|nChannels|mode|label|\n",
      "+------+-----+---------+----+-----+\n",
      "|   288|  384|        3|  16|    0|\n",
      "|   288|  384|        3|  16|    1|\n",
      "|   288|  384|        3|  16|    0|\n",
      "|   288|  384|        3|  16|    0|\n",
      "|   288|  384|        3|  16|    0|\n",
      "|   288|  384|        3|  16|    0|\n",
      "|   288|  384|        3|  16|    0|\n",
      "|   288|  384|        3|  16|    0|\n",
      "|   288|  384|        3|  16|    1|\n",
      "|   288|  384|        3|  16|    1|\n",
      "|   288|  384|        3|  16|    0|\n",
      "|   288|  384|        3|  16|    0|\n",
      "|   288|  384|        3|  16|    0|\n",
      "|   288|  384|        3|  16|    0|\n",
      "|   288|  384|        3|  16|    1|\n",
      "|   288|  384|        3|  16|    0|\n",
      "|   288|  384|        3|  16|    1|\n",
      "|   288|  384|        3|  16|    0|\n",
      "|   288|  384|        3|  16|    0|\n",
      "|   288|  384|        3|  16|    0|\n",
      "+------+-----+---------+----+-----+\n",
      "only showing top 20 rows\n",
      "\n"
     ]
    }
   ],
   "source": [
    "df_images.select(\"image.height\", \"image.width\", \"image.nChannels\", \"image.mode\", \"label\").show()"
   ]
  },
  {
   "cell_type": "markdown",
   "metadata": {},
   "source": [
    "### Read as Binary Files"
   ]
  },
  {
   "cell_type": "code",
   "execution_count": 9,
   "metadata": {},
   "outputs": [
    {
     "name": "stdout",
     "output_type": "stream",
     "text": [
      "+--------------------+--------------------+------+--------------------+-----+\n",
      "|                path|    modificationTime|length|             content|label|\n",
      "+--------------------+--------------------+------+--------------------+-----+\n",
      "|file:/home/jovyan...|2024-12-19 03:06:...| 55037|[FF D8 FF E0 00 1...|    0|\n",
      "|file:/home/jovyan...|2024-12-19 03:06:...| 54634|[FF D8 FF E0 00 1...|    1|\n",
      "|file:/home/jovyan...|2024-12-19 03:06:...| 54624|[FF D8 FF E0 00 1...|    0|\n",
      "|file:/home/jovyan...|2024-12-19 03:06:...| 54505|[FF D8 FF E0 00 1...|    0|\n",
      "|file:/home/jovyan...|2024-12-19 03:06:...| 54475|[FF D8 FF E0 00 1...|    0|\n",
      "|file:/home/jovyan...|2024-12-19 03:06:...| 54449|[FF D8 FF E0 00 1...|    0|\n",
      "|file:/home/jovyan...|2024-12-19 03:06:...| 54440|[FF D8 FF E0 00 1...|    0|\n",
      "|file:/home/jovyan...|2024-12-19 03:06:...| 54377|[FF D8 FF E0 00 1...|    0|\n",
      "|file:/home/jovyan...|2024-12-19 03:06:...| 54365|[FF D8 FF E0 00 1...|    1|\n",
      "|file:/home/jovyan...|2024-12-19 03:06:...| 54330|[FF D8 FF E0 00 1...|    1|\n",
      "|file:/home/jovyan...|2024-12-19 03:06:...| 54289|[FF D8 FF E0 00 1...|    0|\n",
      "|file:/home/jovyan...|2024-12-19 03:06:...| 54263|[FF D8 FF E0 00 1...|    0|\n",
      "|file:/home/jovyan...|2024-12-19 03:06:...| 54252|[FF D8 FF E0 00 1...|    0|\n",
      "|file:/home/jovyan...|2024-12-19 03:06:...| 54248|[FF D8 FF E0 00 1...|    0|\n",
      "|file:/home/jovyan...|2024-12-19 03:06:...| 54244|[FF D8 FF E0 00 1...|    1|\n",
      "|file:/home/jovyan...|2024-12-19 03:06:...| 54225|[FF D8 FF E0 00 1...|    0|\n",
      "|file:/home/jovyan...|2024-12-19 03:06:...| 54200|[FF D8 FF E0 00 1...|    1|\n",
      "|file:/home/jovyan...|2024-12-19 03:06:...| 54190|[FF D8 FF E0 00 1...|    0|\n",
      "|file:/home/jovyan...|2024-12-19 03:06:...| 54178|[FF D8 FF E0 00 1...|    0|\n",
      "|file:/home/jovyan...|2024-12-19 03:06:...| 54115|[FF D8 FF E0 00 1...|    0|\n",
      "+--------------------+--------------------+------+--------------------+-----+\n",
      "only showing top 20 rows\n",
      "\n"
     ]
    }
   ],
   "source": [
    "bin_file_path = \"data/train_images/\"\n",
    "\n",
    "df_binary = (spark.read.format(\"binaryFile\")\n",
    "             .option(\"pathGlobalFilter\", \"*.jpg\")\n",
    "             .load(bin_file_path))\n",
    "\n",
    "df_binary.show()"
   ]
  },
  {
   "cell_type": "code",
   "execution_count": null,
   "metadata": {},
   "outputs": [],
   "source": []
  }
 ],
 "metadata": {
  "kernelspec": {
   "display_name": "Python 3 (ipykernel)",
   "language": "python",
   "name": "python3"
  },
  "language_info": {
   "codemirror_mode": {
    "name": "ipython",
    "version": 3
   },
   "file_extension": ".py",
   "mimetype": "text/x-python",
   "name": "python",
   "nbconvert_exporter": "python",
   "pygments_lexer": "ipython3",
   "version": "3.11.6"
  }
 },
 "nbformat": 4,
 "nbformat_minor": 2
}
